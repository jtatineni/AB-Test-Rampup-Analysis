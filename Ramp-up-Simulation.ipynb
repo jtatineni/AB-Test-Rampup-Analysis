{
 "cells": [
  {
   "cell_type": "code",
   "execution_count": 99,
   "metadata": {},
   "outputs": [
    {
     "data": {
      "text/plain": [
       "'3.6.0 (v3.6.0:41df79263a11, Dec 22 2016, 17:23:13) \\n[GCC 4.2.1 (Apple Inc. build 5666) (dot 3)]'"
      ]
     },
     "execution_count": 99,
     "metadata": {},
     "output_type": "execute_result"
    }
   ],
   "source": [
    "import sys\n",
    "import numpy as np\n",
    "import matplotlib.pyplot as plt\n",
    "import pandas as pd\n",
    "import random\n",
    "from scipy.stats import poisson, uniform, norm, cauchy, gaussian_kde\n",
    "\n",
    "sys.version"
   ]
  },
  {
   "cell_type": "markdown",
   "metadata": {},
   "source": [
    "# Ramp-up Model"
   ]
  },
  {
   "cell_type": "markdown",
   "metadata": {},
   "source": [
    "Let's model some ramp-ups. :)\n",
    "We use the option that we only send a part of the traffic to a/b testing during ramp-up, traffic that does not go to a/b testing will by default be the control. After reaching a/b testing, we always make a 50%/50% split of treatment and control.\n",
    "We simulate in a way that ramp-up happens on day 0 (10% ), day 5 (30%), and day 10 (50%). This is illustrated in the following table."
   ]
  },
  {
   "cell_type": "code",
   "execution_count": 100,
   "metadata": {},
   "outputs": [
    {
     "data": {
      "image/png": "[encoded data removed]",
      "text/plain": [
       "<matplotlib.figure.Figure at 0x10b086a20>"
      ]
     },
     "metadata": {},
     "output_type": "display_data"
    }
   ],
   "source": [
    "x = np.linspace(0, 30, 1000)\n",
    "y0 = 0\n",
    "y1 = [0.1 if i<5 else\n",
    "      0.3 if i<10 else\n",
    "      0.5 for i in x]\n",
    "y2 = [0.2 if i<5 else\n",
    "      0.6 if i<10 else\n",
    "      1.0 for i in x]\n",
    "y3 = 1\n",
    "\n",
    "fig, ax = plt.subplots()\n",
    "ax.fill_between(x, y0, y1, facecolor='blue', interpolate=True, alpha=0.8, label=\"treatment\")\n",
    "ax.fill_between(x, y1, y2, facecolor='green', interpolate=True, alpha=0.8, label=\"control_octopus\")\n",
    "ax.fill_between(x, y2, y3, facecolor='green', interpolate=True, alpha=0.4, label=\"control_other\")\n",
    "ax.set_xlim(0, 30)\n",
    "ax.set_ylim(0, 1)\n",
    "\n",
    "ax.set_xlabel('day index')\n",
    "ax.set_ylabel('percentage of traffic')\n",
    "ax.set_title('ramp-up simulation')\n",
    "ax.legend()\n",
    "ax.grid(True)\n",
    "\n",
    "plt.show()"
   ]
  },
  {
   "cell_type": "markdown",
   "metadata": {
    "collapsed": true
   },
   "source": [
    "# Generate Simulation Data"
   ]
  },
  {
   "cell_type": "code",
   "execution_count": 101,
   "metadata": {},
   "outputs": [],
   "source": [
    "seed = 7\n",
    "days = 30\n",
    "total_entities = 10000 \n",
    "averageVisitPerEntity = 3\n",
    "base = 0.5\n",
    "delta = 0.3\n",
    "scale = 0.1\n",
    "\n",
    "def _randomNumberPoisson(lam):\n",
    "    lower = poisson.pmf(0, lam)\n",
    "    return poisson.ppf(uniform.rvs(size=1, loc=lower, scale=1 - lower), lam)\n",
    "\n",
    "def ramp_up_simulation_data():\n",
    "    np.random.seed(seed)\n",
    "    assignment = pd.DataFrame({'entity': range(total_entities),\n",
    "                               'variant': np.random.choice(['A', 'B'], size=total_entities, p=[0.5, 0.5])})\n",
    "    all_data = pd.DataFrame()\n",
    "    for e in range(total_entities):\n",
    "        n_for_e = int(_randomNumberPoisson(averageVisitPerEntity))\n",
    "        if n_for_e > days:\n",
    "            n_for_e = days\n",
    "        timePoints = np.random.choice(days, size=n_for_e, replace=False)\n",
    "        normal_shifted_rv = norm.rvs(size=n_for_e, loc=base, scale=scale)\n",
    "        if assignment.variant[assignment.entity == e].iloc[0] == 'B':\n",
    "            normal_shifted_rv = norm.rvs(size=n_for_e, loc=base+delta, scale=scale)\n",
    "        df = pd.DataFrame({\n",
    "            'entity': e,\n",
    "            'normal_shifted': normal_shifted_rv,\n",
    "            'time': timePoints\n",
    "        })\n",
    "        all_data = all_data.append(df, ignore_index=True)\n",
    "    all_data = pd.merge(all_data, assignment, on='entity')\n",
    "    \n",
    "    for index, row in all_data.iterrows():\n",
    "        randint = random.randrange(10)\n",
    "        if row['time'] < 5 and randint < 8:\n",
    "            all_data.drop(index, inplace=True)\n",
    "        elif 5 <= row['time'] < 10 and randint < 4:\n",
    "            all_data.drop(index, inplace=True)\n",
    "            \n",
    "    return all_data.reset_index()"
   ]
  },
  {
   "cell_type": "code",
   "execution_count": 102,
   "metadata": {},
   "outputs": [
    {
     "data": {
      "text/html": [
       "<div>\n",
       "<table border=\"1\" class=\"dataframe\">\n",
       "  <thead>\n",
       "    <tr style=\"text-align: right;\">\n",
       "      <th></th>\n",
       "      <th>index</th>\n",
       "      <th>entity</th>\n",
       "      <th>normal_shifted</th>\n",
       "      <th>time</th>\n",
       "      <th>variant</th>\n",
       "    </tr>\n",
       "  </thead>\n",
       "  <tbody>\n",
       "    <tr>\n",
       "      <th>0</th>\n",
       "      <td>0</td>\n",
       "      <td>0</td>\n",
       "      <td>0.440493</td>\n",
       "      <td>5</td>\n",
       "      <td>A</td>\n",
       "    </tr>\n",
       "    <tr>\n",
       "      <th>1</th>\n",
       "      <td>1</td>\n",
       "      <td>0</td>\n",
       "      <td>0.262855</td>\n",
       "      <td>17</td>\n",
       "      <td>A</td>\n",
       "    </tr>\n",
       "    <tr>\n",
       "      <th>2</th>\n",
       "      <td>2</td>\n",
       "      <td>0</td>\n",
       "      <td>0.332676</td>\n",
       "      <td>27</td>\n",
       "      <td>A</td>\n",
       "    </tr>\n",
       "    <tr>\n",
       "      <th>3</th>\n",
       "      <td>3</td>\n",
       "      <td>0</td>\n",
       "      <td>0.612572</td>\n",
       "      <td>15</td>\n",
       "      <td>A</td>\n",
       "    </tr>\n",
       "    <tr>\n",
       "      <th>4</th>\n",
       "      <td>4</td>\n",
       "      <td>0</td>\n",
       "      <td>0.483241</td>\n",
       "      <td>23</td>\n",
       "      <td>A</td>\n",
       "    </tr>\n",
       "  </tbody>\n",
       "</table>\n",
       "</div>"
      ],
      "text/plain": [
       "   index  entity  normal_shifted  time variant\n",
       "0      0       0        0.440493     5       A\n",
       "1      1       0        0.262855    17       A\n",
       "2      2       0        0.332676    27       A\n",
       "3      3       0        0.612572    15       A\n",
       "4      4       0        0.483241    23       A"
      ]
     },
     "execution_count": 102,
     "metadata": {},
     "output_type": "execute_result"
    }
   ],
   "source": [
    "data = ramp_up_simulation_data()\n",
    "data.head()"
   ]
  },
  {
   "cell_type": "code",
   "execution_count": 112,
   "metadata": {},
   "outputs": [
    {
     "data": {
      "image/png": "[encoded data removed]",
      "text/plain": [
       "<matplotlib.figure.Figure at 0x109f22470>"
      ]
     },
     "metadata": {},
     "output_type": "display_data"
    }
   ],
   "source": [
    "data.time.plot.hist(alpha=0.5, bins=30, title='amount of traffic in generated data over time')\n",
    "plt.show()"
   ]
  },
  {
   "cell_type": "markdown",
   "metadata": {},
   "source": [
    "Let's define a utility function that build a dataframe of kpi per variant."
   ]
  },
  {
   "cell_type": "code",
   "execution_count": 104,
   "metadata": {
    "collapsed": true
   },
   "outputs": [],
   "source": [
    "def to_KPI_per_variant(df):\n",
    "    kpi_A = df[df.variant == \"A\"][\"normal_shifted\"]\n",
    "    kpi_B = df[df.variant == \"B\"][\"normal_shifted\"]\n",
    "    return pd.concat([kpi_A, kpi_B], axis=1, keys=['variant A', 'variant B'])"
   ]
  },
  {
   "cell_type": "markdown",
   "metadata": {},
   "source": [
    "We can use this utility function to look at the distribution of kpis for the two variants."
   ]
  },
  {
   "cell_type": "code",
   "execution_count": 105,
   "metadata": {
    "scrolled": true
   },
   "outputs": [
    {
     "data": {
      "image/png": "[encoded data removed]",
      "text/plain": [
       "<matplotlib.figure.Figure at 0x10ac41e10>"
      ]
     },
     "metadata": {},
     "output_type": "display_data"
    }
   ],
   "source": [
    "to_KPI_per_variant(data).plot.hist(alpha=0.5, bins=100, title=\"kpi distribution\")\n",
    "plt.show()"
   ]
  },
  {
   "cell_type": "markdown",
   "metadata": {},
   "source": [
    "We can see that kpis of the two variant are normally distributed with mean 0.5 and 0.8 respectively."
   ]
  },
  {
   "cell_type": "markdown",
   "metadata": {},
   "source": [
    "# Effect of Exposure"
   ]
  },
  {
   "cell_type": "markdown",
   "metadata": {
    "collapsed": true
   },
   "source": [
    "One propery we want to model is the effect of exposure. If an entity is exposed to treatment for a long period, we might get a decayed kpi value from this enityt because he/she is used to the behaviour. Same for the control group. We model this effect by a flipped logistic function, but with a smoother change. Again, we assume the changing point of exposure effect is centered at day 10. "
   ]
  },
  {
   "cell_type": "code",
   "execution_count": 106,
   "metadata": {},
   "outputs": [
    {
     "data": {
      "image/png": "[encoded data removed]",
      "text/plain": [
       "<matplotlib.figure.Figure at 0x105a347f0>"
      ]
     },
     "metadata": {},
     "output_type": "display_data"
    }
   ],
   "source": [
    "def effect_of_exposure(array_of_days):\n",
    "    k = 0.5\n",
    "    return 0.5 / (1 + np.exp(-k*(10-array_of_days))) + 0.5\n",
    "\n",
    "x = np.arange(30)\n",
    "y = effect_of_exposure(x)\n",
    "            \n",
    "plt.plot(x, y, 'c-')\n",
    "plt.ylim([0.4, 1.05])\n",
    "plt.xlabel(\"exposure time for the same entity\")\n",
    "plt.ylabel(\"percentage of kpi value of first time visit\")\n",
    "plt.title(\"simulation of the effect of exposure\")\n",
    "plt.show()"
   ]
  },
  {
   "cell_type": "code",
   "execution_count": 107,
   "metadata": {},
   "outputs": [],
   "source": [
    "def add_effect_of_exposure(data):\n",
    "    first_day_per_entity = data.groupby(['entity'])['time'].min().reset_index()\n",
    "    for i in range(len(data)):\n",
    "        entity = data.loc[i, 'entity']\n",
    "        day = data.loc[i, 'time']\n",
    "        first_day = first_day_per_entity[first_day_per_entity['entity']==entity].iloc[0, 1]\n",
    "        time_of_exposure = day - first_day\n",
    "        percentage_remained = effect_of_exposure(time_of_exposure)\n",
    "        # print(entity, percentage_remained)\n",
    "        data.set_value(i, 'normal_shifted', data.loc[i, 'normal_shifted'] * percentage_remained)\n",
    "    return data"
   ]
  },
  {
   "cell_type": "markdown",
   "metadata": {},
   "source": [
    "And let's look at how the kpis are distributed now after adding the mocked effect of exposure."
   ]
  },
  {
   "cell_type": "code",
   "execution_count": 108,
   "metadata": {},
   "outputs": [
    {
     "data": {
      "image/png": "[encoded data removed]",
      "text/plain": [
       "<matplotlib.figure.Figure at 0x109c47b38>"
      ]
     },
     "metadata": {},
     "output_type": "display_data"
    }
   ],
   "source": [
    "data_with_eoe = add_effect_of_exposure(data)\n",
    "to_KPI_per_variant(data_with_eoe).plot.hist(alpha=0.5, bins=100, title=\"kpi distribution\")\n",
    "plt.show()"
   ]
  },
  {
   "cell_type": "markdown",
   "metadata": {},
   "source": [
    "# Seasonal Effect"
   ]
  },
  {
   "cell_type": "markdown",
   "metadata": {},
   "source": [
    "We can also assume that there is mean shift of kpi value over time, in other words, there is a seasonal effect. This is because adding the ramp-up period might make the experiment too long, which leads to the shift of the kpi mean (e.g. run into a sale season). We simulate this behaviour by a sharp logistic function from 0.2 to 0.8, the change is centered at day 10."
   ]
  },
  {
   "cell_type": "code",
   "execution_count": 109,
   "metadata": {},
   "outputs": [
    {
     "data": {
      "image/png": "[encoded data removed]",
      "text/plain": [
       "<matplotlib.figure.Figure at 0x10ae0bf28>"
      ]
     },
     "metadata": {},
     "output_type": "display_data"
    }
   ],
   "source": [
    "x = np.arange(30)\n",
    "y = 0.6 / (1 + np.exp(-x+10)) + 0.2\n",
    "plt.plot(x, y, 'c-')\n",
    "plt.ylim([0, 1])\n",
    "plt.xlabel(\"day index\")\n",
    "plt.ylabel(\"kpi mean value\")\n",
    "plt.title(\"simulation of kpi mean shift over time\")\n",
    "plt.show()"
   ]
  },
  {
   "cell_type": "code",
   "execution_count": 110,
   "metadata": {},
   "outputs": [
    {
     "ename": "NameError",
     "evalue": "name 'add_mean_shift_over_time' is not defined",
     "output_type": "error",
     "traceback": [
      "\u001b[0;31m---------------------------------------------------------------------------\u001b[0m",
      "\u001b[0;31mNameError\u001b[0m                                 Traceback (most recent call last)",
      "\u001b[0;32m<ipython-input-110-838a03c68d53>\u001b[0m in \u001b[0;36m<module>\u001b[0;34m()\u001b[0m\n\u001b[0;32m----> 1\u001b[0;31m \u001b[0madd_mean_shift_over_time\u001b[0m\u001b[0;34m(\u001b[0m\u001b[0mdata\u001b[0m\u001b[0;34m)\u001b[0m\u001b[0;34m\u001b[0m\u001b[0m\n\u001b[0m",
      "\u001b[0;31mNameError\u001b[0m: name 'add_mean_shift_over_time' is not defined"
     ]
    }
   ],
   "source": [
    "add_mean_shift_over_time(data)"
   ]
  }
 ],
 "metadata": {
  "kernelspec": {
   "display_name": "Python 3",
   "language": "python",
   "name": "python3"
  },
  "language_info": {
   "codemirror_mode": {
    "name": "ipython",
    "version": 3
   },
   "file_extension": ".py",
   "mimetype": "text/x-python",
   "name": "python",
   "nbconvert_exporter": "python",
   "pygments_lexer": "ipython3",
   "version": "3.6.0"
  }
 },
 "nbformat": 4,
 "nbformat_minor": 2
}
